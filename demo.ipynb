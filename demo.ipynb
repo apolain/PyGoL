{
 "cells": [
  {
   "cell_type": "markdown",
   "metadata": {},
   "source": [
    "# Demo notebook"
   ]
  },
  {
   "cell_type": "code",
   "execution_count": null,
   "metadata": {},
   "outputs": [],
   "source": [
    "import pygol.game_of_life\n",
    "import pygol.displayer\n",
    "import numpy as np"
   ]
  },
  {
   "cell_type": "markdown",
   "metadata": {},
   "source": [
    "#### Random initial grid"
   ]
  },
  {
   "cell_type": "code",
   "execution_count": null,
   "metadata": {},
   "outputs": [],
   "source": [
    "random_gol = pygol.game_of_life.GameOfLife(size=(100, 100), configuration=\"B3/S23\")\n",
    "displayer_random_gol = pygol.displayer.PygameGOLDisplayer(gol=random_gol)"
   ]
  },
  {
   "cell_type": "code",
   "execution_count": null,
   "metadata": {},
   "outputs": [],
   "source": [
    "displayer_random_gol.run()"
   ]
  },
  {
   "cell_type": "markdown",
   "metadata": {},
   "source": [
    "#### Defining the initial grid"
   ]
  },
  {
   "cell_type": "code",
   "execution_count": null,
   "metadata": {},
   "outputs": [],
   "source": [
    "init_grid = np.zeros((101, 101))\n",
    "init_grid[50, 50] = 1"
   ]
  },
  {
   "cell_type": "code",
   "execution_count": null,
   "metadata": {},
   "outputs": [],
   "source": [
    "gol_defined_init_grid = pygol.game_of_life.GameOfLife(\n",
    "    initial_grid=init_grid, configuration=\"B1/S12\", periodic=False\n",
    ")\n",
    "displayer_defined_init_grid = pygol.displayer.PygameGOLDisplayer(\n",
    "    gol=gol_defined_init_grid\n",
    ")"
   ]
  },
  {
   "cell_type": "code",
   "execution_count": null,
   "metadata": {},
   "outputs": [],
   "source": [
    "displayer_defined_init_grid.run()"
   ]
  },
  {
   "cell_type": "markdown",
   "metadata": {},
   "source": [
    "#### Reading YAML file"
   ]
  },
  {
   "cell_type": "code",
   "execution_count": null,
   "metadata": {},
   "outputs": [],
   "source": [
    "gol_yaml = pygol.game_of_life.GameOfLife(\n",
    "    file_path=\"configs/planneur.yaml\", size=(10, 25), periodic=True\n",
    ")\n",
    "displayer_yaml = pygol.displayer.PygameGOLDisplayer(gol=gol_yaml)"
   ]
  },
  {
   "cell_type": "code",
   "execution_count": null,
   "metadata": {},
   "outputs": [],
   "source": [
    "displayer_yaml.run()"
   ]
  }
 ],
 "metadata": {
  "kernelspec": {
   "display_name": "GameOfLife-eJ3MWKlm",
   "language": "python",
   "name": "python3"
  },
  "language_info": {
   "codemirror_mode": {
    "name": "ipython",
    "version": 3
   },
   "file_extension": ".py",
   "mimetype": "text/x-python",
   "name": "python",
   "nbconvert_exporter": "python",
   "pygments_lexer": "ipython3",
   "version": "3.10.12"
  }
 },
 "nbformat": 4,
 "nbformat_minor": 2
}
